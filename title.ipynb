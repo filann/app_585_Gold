{
 "cells": [
  {
   "cell_type": "code",
   "execution_count": 190,
   "metadata": {
    "collapsed": true
   },
   "outputs": [],
   "source": [
    "import pandas as pd\n",
    "import numpy as np\n",
    "import time\n",
    "\n",
    "from sklearn.linear_model import LogisticRegression\n",
    "from sklearn.model_selection import train_test_split\n",
    "from sklearn.tree import DecisionTreeClassifier\n",
    "from sklearn.preprocessing import OneHotEncoder\n",
    "from sklearn.metrics import accuracy_score\n",
    "from sklearn.ensemble import RandomForestClassifier"
   ]
  },
  {
   "cell_type": "code",
   "execution_count": 197,
   "metadata": {
    "collapsed": false
   },
   "outputs": [],
   "source": [
    "def read_data(path):\n",
    "    \n",
    "    db = pd.read_csv(path, sep=\";\")\n",
    "    \n",
    "    #delete time\n",
    "    db = db.drop(['PurchaseDate'], axis=1)\n",
    "    \n",
    "    #oneHot cities and group name\n",
    "    # 1260 городов - delete:)\n",
    "    db = db.drop(['City'], axis=1)\n",
    "    \n",
    "    one_hot_2 = pd.get_dummies(db['GroupTNName'])\n",
    "    db = db.join(one_hot_2)\n",
    "    db = db.drop(['GroupTNName'], axis=1)\n",
    "    \n",
    "    X = db.values\n",
    "    # from ['12640,00' '5023,00' '7815,00' ... '655,00' '10466,00' '341,10'] to [12640.0 5023.0 7815.0 ... 655.0 10466.0 341.1]\n",
    "    X[:, 1] = [float(x[:x.find(',')] + '.' + x[x.find(',') + 1:]) for x in X[:, 1]]\n",
    "    \n",
    "    y = [random.choice([1, 0]) for _ in range(X.shape[0])]\n",
    "    return X, np.asarray(y)\n",
    "\n",
    "    \n",
    "def run_models(X, y):\n",
    "    X_train, X_test, y_train, y_test = train_test_split(X, y, test_size=0.2, random_state=42)\n",
    "\n",
    "    # Linear Classifier \n",
    "    cls = LogisticRegression()\n",
    "    cls.fit(X_train, y_train)\n",
    "    y_pred = cls.predict(X_test)\n",
    "    print (\"Accuracy of Logistic Ragression is\", accuracy_score(y_test, y_pred) * 100)\n",
    "    \n",
    "    \n",
    "    # Random Forest   \n",
    "    rf = RandomForestClassifier(max_depth=2, random_state=0)\n",
    "    rf.fit(X_train, y_train)\n",
    "    y_pred = rf.predict(X_test)\n",
    "    print (\"Accuracy of Random Forest is\", accuracy_score(y_test, y_pred) * 100)\n",
    "    \n",
    "    \n",
    "    # Decision Tree\n",
    "    tree = DecisionTreeClassifier()\n",
    "    tree.fit(X_train, y_train)\n",
    "    y_pred = tree.predict(X_test)\n",
    "    print (\"Accuracy of Decision Tree is\", accuracy_score(y_test, y_pred) * 100)"
   ]
  },
  {
   "cell_type": "code",
   "execution_count": 198,
   "metadata": {
    "collapsed": false
   },
   "outputs": [
    {
     "name": "stdout",
     "output_type": "stream",
     "text": [
      "Accuracy of Logistic Ragression is 50.044999999999995\n",
      "Accuracy of Random Forest is 50.15500000000001\n",
      "Accuracy of Decision Tree is 50.075\n",
      "Time to do it all = 0.03501061995824178 minutes\n"
     ]
    }
   ],
   "source": [
    "def main():\n",
    "    X, y = read_data(\"purchase_test.csv\")\n",
    "    run_models(X, y)\n",
    "\n",
    "start = time.time()\n",
    "main()\n",
    "print(\"Time to do it all =\", (time.time() - start) / 60, \"minutes\")"
   ]
  },
  {
   "cell_type": "code",
   "execution_count": null,
   "metadata": {
    "collapsed": true
   },
   "outputs": [],
   "source": []
  }
 ],
 "metadata": {
  "kernelspec": {
   "display_name": "Python 3",
   "language": "python",
   "name": "python3"
  },
  "language_info": {
   "codemirror_mode": {
    "name": "ipython",
    "version": 3
   },
   "file_extension": ".py",
   "mimetype": "text/x-python",
   "name": "python",
   "nbconvert_exporter": "python",
   "pygments_lexer": "ipython3",
   "version": "3.6.0"
  }
 },
 "nbformat": 4,
 "nbformat_minor": 2
}
